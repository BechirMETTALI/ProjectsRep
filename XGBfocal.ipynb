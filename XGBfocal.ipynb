{
  "nbformat": 4,
  "nbformat_minor": 0,
  "metadata": {
    "colab": {
      "name": "Untitled0.ipynb",
      "provenance": [],
      "collapsed_sections": [],
      "mount_file_id": "1Mp6hy4-jBuGlMWh7M5qdp0IOkb6O03a0",
      "authorship_tag": "ABX9TyMeG0W5KGvxr3K6SsE18cks",
      "include_colab_link": true
    },
    "kernelspec": {
      "name": "python3",
      "display_name": "Python 3"
    },
    "accelerator": "TPU"
  },
  "cells": [
    {
      "cell_type": "markdown",
      "metadata": {
        "id": "view-in-github",
        "colab_type": "text"
      },
      "source": [
        "<a href=\"https://colab.research.google.com/github/BechirMETTALI/ProjectsRep/blob/master/XGBfocal.ipynb\" target=\"_parent\"><img src=\"https://colab.research.google.com/assets/colab-badge.svg\" alt=\"Open In Colab\"/></a>"
      ]
    },
    {
      "cell_type": "markdown",
      "metadata": {
        "id": "2Z167Fn31GtK"
      },
      "source": [
        "PREDICTING SEX FROM BRAIN RYTHM\n",
        "\n",
        "\n"
      ]
    },
    {
      "cell_type": "markdown",
      "metadata": {
        "id": "Udw7KJQhFg_i"
      },
      "source": [
        "*XGBOOST with Focal Loss function*"
      ]
    },
    {
      "cell_type": "code",
      "metadata": {
        "id": "P8xxcMlHZpI4",
        "colab": {
          "base_uri": "https://localhost:8080/"
        },
        "outputId": "9c4cae78-3693-4eb6-c3df-2f8d60c1c390"
      },
      "source": [
        "from google.colab import drive\n",
        "drive.mount('/content/drive')\n",
        "!pip install imbalance-xgboost"
      ],
      "execution_count": null,
      "outputs": [
        {
          "output_type": "stream",
          "text": [
            "Drive already mounted at /content/drive; to attempt to forcibly remount, call drive.mount(\"/content/drive\", force_remount=True).\n",
            "Requirement already satisfied: imbalance-xgboost in /usr/local/lib/python3.6/dist-packages (0.7.4)\n",
            "Requirement already satisfied: xgboost>=0.4a30 in /usr/local/lib/python3.6/dist-packages (from imbalance-xgboost) (0.90)\n",
            "Requirement already satisfied: scikit-learn>=0.19 in /usr/local/lib/python3.6/dist-packages (from imbalance-xgboost) (0.22.2.post1)\n",
            "Requirement already satisfied: numpy>=1.11 in /usr/local/lib/python3.6/dist-packages (from imbalance-xgboost) (1.18.5)\n",
            "Requirement already satisfied: scipy in /usr/local/lib/python3.6/dist-packages (from xgboost>=0.4a30->imbalance-xgboost) (1.4.1)\n",
            "Requirement already satisfied: joblib>=0.11 in /usr/local/lib/python3.6/dist-packages (from scikit-learn>=0.19->imbalance-xgboost) (0.17.0)\n"
          ],
          "name": "stdout"
        }
      ]
    },
    {
      "cell_type": "code",
      "metadata": {
        "id": "NoO1L0n51w4m"
      },
      "source": [
        "import numpy as np\n",
        "import matplotlib.pyplot as plt\n",
        "from sklearn.utils import shuffle\n",
        "from sklearn.model_selection import train_test_split\n",
        "import tensorflow as tf\n",
        "from tensorflow import keras\n",
        "from keras.layers import Dense\n",
        "import h5py\n",
        "from keras.utils.np_utils import to_categorical\n",
        "from imblearn.under_sampling import ClusterCentroids\n",
        "from imxgboost.imbalance_xgb import imbalance_xgboost as imb_xgb\n"
      ],
      "execution_count": null,
      "outputs": []
    },
    {
      "cell_type": "markdown",
      "metadata": {
        "id": "KY_35Ia_1j_6"
      },
      "source": [
        "Loading Data"
      ]
    },
    {
      "cell_type": "code",
      "metadata": {
        "colab": {
          "base_uri": "https://localhost:8080/"
        },
        "id": "OL_8LZQs1hWT",
        "outputId": "ece3763b-b91d-4687-e9b7-55f49762f16f"
      },
      "source": [
        "path_X_train_new = '/content/drive/MyDrive/gcha/X_train_new.h5'\n",
        "path_X_test_new = '/content/drive/MyDrive/gcha/X_test_new.h5'\n",
        "path_y_train_AvC = '/content/drive/MyDrive/gcha/y_train_AvCsavx.csv'\n",
        "file_x_train = h5py.File(path_X_train_new, 'r')\n",
        "x_train = file_x_train['features']\n",
        "x_train_shape = x_train.shape \n",
        "print(x_train_shape)\n",
        "file_x_test = h5py.File(path_X_test_new, 'r')\n",
        "x_test = file_x_test['features']\n",
        "x_test_shape = x_test.shape \n",
        "print(x_test_shape)\n"
      ],
      "execution_count": null,
      "outputs": [
        {
          "output_type": "stream",
          "text": [
            "(946, 40, 7, 500)\n",
            "(946, 40, 7, 500)\n"
          ],
          "name": "stdout"
        }
      ]
    },
    {
      "cell_type": "code",
      "metadata": {
        "colab": {
          "base_uri": "https://localhost:8080/"
        },
        "id": "2eaWZqTy9MTv",
        "outputId": "67923698-21db-43cf-d892-bcf9bfbd71c6"
      },
      "source": [
        "n_d = x_train_shape[0]\n",
        "n_canaux = x_train_shape[1]\n",
        "n_channels = x_train_shape[2]\n",
        "n_signal = x_train_shape[3]\n",
        "num_channel = 1\n",
        "x_train_array = x_train[0:n_d, 0:n_canaux, 0:n_channels, 0:n_signal]\n",
        "\n",
        "x_train_xgb=x_train_array.reshape(n_d * n_canaux , n_channels * n_signal)\n",
        "print (x_train_xgb.shape)\n",
        "n_dt = x_test_shape[0]\n",
        "x_test_array = x_test[0:n_dt, 0:n_canaux, 0:n_channels, 0:n_signal]\n",
        "x_test_xgb=x_test_array.reshape(n_dt * n_canaux , n_channels * n_signal)\n",
        "print (x_test_xgb.shape)"
      ],
      "execution_count": null,
      "outputs": [
        {
          "output_type": "stream",
          "text": [
            "(37840, 3500)\n",
            "(37840, 3500)\n"
          ],
          "name": "stdout"
        }
      ]
    },
    {
      "cell_type": "code",
      "metadata": {
        "colab": {
          "base_uri": "https://localhost:8080/"
        },
        "id": "BB__08yfD6Jh",
        "outputId": "2b3085d1-88a4-437e-94cc-2ec32674569d"
      },
      "source": [
        "y_train_import = np.genfromtxt(path_y_train_AvC , dtype=\"str\" , delimiter=\" \" )\n",
        "excel_0 = y_train_import[0]  \n",
        "y_train_str = y_train_import[1:y_train_import.shape[0]]\n",
        "y_train = np.array([np.int(identity[-1]) for identity in y_train_str for i in range(n_canaux)] )  #0 male 1 female\n",
        "\n",
        "\n",
        "\n",
        "print (y_train )"
      ],
      "execution_count": null,
      "outputs": [
        {
          "output_type": "stream",
          "text": [
            "[0 0 0 ... 0 0 0]\n"
          ],
          "name": "stdout"
        }
      ]
    },
    {
      "cell_type": "code",
      "metadata": {
        "colab": {
          "base_uri": "https://localhost:8080/"
        },
        "id": "3fC82Lzi1iqm",
        "outputId": "ea8d700e-cbc4-4fbe-8dec-5305c5d205b2"
      },
      "source": [
        "import xgboost as xgb\n",
        "from xgboost import XGBClassifier\n",
        "from sklearn.model_selection import cross_val_score\n",
        "from sklearn.model_selection import GridSearchCV\n",
        "xgbooster = imb_xgb(special_objective='focal')\n",
        "CV_focal_booster = GridSearchCV(xgbooster, {\"focal_gamma\":[1.0,1.5,2.0,2.5,3.0]})\n",
        "CV_focal_booster.fit(x_train_xgb, y_train)\n",
        "opt_focal_booster = CV_focal_booster.best_estimator_\n",
        "preds = opt_focal_booster.predict_two_class(x_test_xgb) \n",
        "#clf = xgb.XGBClassifier(n_estimators = 20,scale_pos_weight=2.3)\n",
        "#clf.fit(x_train_xgb, y_train)\n",
        "#preds = clf.predict(x_test_xgb)\n",
        "#acc_xgb = (preds == Y_test).sum().astype(float) / len(preds)*100\n",
        "print(sum(preds))\n"
      ],
      "execution_count": null,
      "outputs": [
        {
          "output_type": "stream",
          "text": [
            "[24419.764 13420.149]\n"
          ],
          "name": "stdout"
        }
      ]
    },
    {
      "cell_type": "code",
      "metadata": {
        "colab": {
          "base_uri": "https://localhost:8080/"
        },
        "id": "Nk5-aFDaCP27",
        "outputId": "f25ae745-3228-48dd-d974-c1b849b5331e"
      },
      "source": [
        "y_test = [preds[n_canaux*i] for i in range(n_d) ]\n",
        "print(y_test)\n",
        "y_test_final=[]\n",
        "for i in range (len(y_test)):\n",
        "  if (y_test[i][0] > 0.5) :\n",
        "    y_test_final.append(0)\n",
        "  else:\n",
        "    y_test_final.append(1)\n",
        "print(len(y_test_final))\n",
        "print(len(y_test))\n",
        "y_solution = [excel_0] + [np.str(i)+','+np.str(y_test_final[i]) for i in range (len(y_test_final))]\n",
        "print(y_solution)\n",
        "np.savetxt(\"Y_foc.csv\", np.array(y_solution), delimiter=\" \", fmt='%s')"
      ],
      "execution_count": null,
      "outputs": [
        {
          "output_type": "stream",
 
          "name": "stdout"
        }
      ]
    }
  ]
}
