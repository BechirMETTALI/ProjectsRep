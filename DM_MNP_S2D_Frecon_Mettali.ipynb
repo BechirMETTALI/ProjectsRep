{
  "nbformat": 4,
  "nbformat_minor": 0,
  "metadata": {
    "kernelspec": {
      "display_name": "Python 3",
      "language": "python",
      "name": "python3"
    },
    "language_info": {
      "codemirror_mode": {
        "name": "ipython",
        "version": 3
      },
      "file_extension": ".py",
      "mimetype": "text/x-python",
      "name": "python",
      "nbconvert_exporter": "python",
      "pygments_lexer": "ipython3",
      "version": "3.8.3"
    },
    "colab": {
      "name": "DM_MNP_S2D_Frecon_Mettali.ipynb",
      "provenance": [],
      "collapsed_sections": [],
      "include_colab_link": true
    }
  },
  "cells": [
    {
      "cell_type": "markdown",
      "metadata": {
        "id": "view-in-github",
        "colab_type": "text"
      },
      "source": [
        "<a href=\"https://colab.research.google.com/github/BechirMETTALI/ProjectsRep/blob/master/DM_MNP_S2D_Frecon_Mettali.ipynb\" target=\"_parent\"><img src=\"https://colab.research.google.com/assets/colab-badge.svg\" alt=\"Open In Colab\"/></a>"
      ]
    },
    {
      "cell_type": "markdown",
      "metadata": {
        "id": "IK4n6HjGoXBU"
      },
      "source": [
        "# Méthodes numériques probabilistes - Devoir Maison\n",
        "\n"
      ]
    },
    {
      "cell_type": "markdown",
      "metadata": {
        "id": "aMHR-lgXoXBf"
      },
      "source": [
        "## Consignes\n",
        "* Ce devoir est à réaliser seul ou en binôme (du même groupe). \n",
        "* Le devoir est à rendre dans un unique fichier python notebook (.ipynb)\n",
        "* Si le devoir est réalisé en binôme, ne déposer qu'un seul fichier sur madoc\n",
        "* Nommer le fichier DM_MNP_Groupe_NOM1_NOM2.ipynb (groupe = APN, S2D ou MACS-IS)\n",
        "* Indiquer ci-dessous le ou les noms des auteurs "
      ]
    },
    {
      "cell_type": "markdown",
      "metadata": {
        "id": "Hf7LaNrqoXBi"
      },
      "source": [
        "\r\n",
        "\r\n",
        "\r\n",
        "## Auteur(s) : Gauthier Frécon et Bechir Mettali"
      ]
    },
    {
      "cell_type": "code",
      "metadata": {
        "id": "BwGbgXfloXBi"
      },
      "source": [
        "import matplotlib\n",
        "import matplotlib.pyplot as plt\n",
        "%matplotlib inline\n",
        "from math import *\n",
        "import numpy as  np   \n",
        "import scipy as sp\n",
        "import scipy.special as spc\n",
        "import scipy.stats as sps\n",
        "from pylab import *\n",
        "import numpy.random as rnd"
      ],
      "execution_count": 2,
      "outputs": []
    },
    {
      "cell_type": "markdown",
      "metadata": {
        "id": "FifmaU44oXBj"
      },
      "source": [
        "\n",
        "On désire utiliser la méthode de rejet pour simuler une variable aléatoire de densité\n",
        "\\begin{equation*}\n",
        "  f_a(x) = a f(x) = a e^{-\\sqrt{1+x^2}} 1_{x>0}\n",
        "\\end{equation*}\n",
        "où $a>0$ est une constante inconnue, pour laquelle il n'existe pas de\n",
        "formule analytique simple. On utilise comme loi instrumentale la loi\n",
        "exponentielle standard, qui est de densité $g(x)=e^{-x} 1_{x>0}$.\n",
        "\n",
        "> **Question 1.** En utilisant l'encadrement pour $x>0$, $x \\le \\sqrt{1+x^2}\n",
        "\\le x+1$, montrer que $1\\le a\\le e$.\n",
        "\n"
      ]
    },
    {
      "cell_type": "markdown",
      "metadata": {
        "id": "VAT_sxdWjca2"
      },
      "source": [
        "1)\r\n",
        "\\begin{array}{l}\r\n",
        "x \\leq \\sqrt{1+x^{2}} \\leq1+x \\quad \\forall x>0\\\\\r\n",
        "a e^{-x} \\geqslant a e^{-\\sqrt{1+x^{2}}} \\geqslant a e^{-x-1} \\\\\r\n",
        "\\int_{0}^{+\\infty} a e^{-x}d x \\geqslant \\int_{0}^{+\\infty} f_{a}(x) d x \\geqslant \\int_{0}^{+\\infty} a e^{-1} e^{-x} d x \\\\\r\n",
        "\\Rightarrow a \\geqslant 1 \\geqslant a e^{-1} \\\\\r\n",
        "\\Rightarrow 1 \\leq a \\leq e\r\n",
        "\\end{array}\r\n"
      ]
    },
    {
      "cell_type": "markdown",
      "metadata": {
        "id": "_MTLkFiloXBl"
      },
      "source": [
        "> **Question 2.**\n",
        "Ecrire une fonction qui retourne $n$ réalisations indépendantes de la\n",
        "loi de densité $f_a$. Vous n'avez pas besoin de connaître la valeur de\n",
        "la constante $a$ mais seulement de connaître une constante $A$ telle que $A\\ge\n",
        "\\sup_{x>0} \\frac{f(x)}{g(x)}$. On utilise alors la majoration $f_a(x) \\le M g(x)$ avec $M= aA$. La condition d'acceptation $M g(Y) U \\le f_a(Y)$ est alors équivalente à $A g(Y) U \\le f(Y)$ avec $Y$ de densité $g$ et $U$ uniforme sur $(0,1)$.\n",
        "En utilisant un histogramme, et le graphe de la fonction $f$, estimer graphiquement la valeur de $a$.\n"
      ]
    },
    {
      "cell_type": "markdown",
      "metadata": {
        "id": "Of8S0BulhVZs"
      },
      "source": [
        "2)\r\n",
        "\\begin{aligned}\r\n",
        "\\text {On a  }\r\n",
        "&x \\leq \\sqrt{1+x^{2}} \\quad \\forall x>0\\\\\r\n",
        "&-x \\geq-\\sqrt{1+x^{2}}\\\\\r\n",
        "&\\text { Donc } e^{-x} \\geqslant e^{-\\sqrt{1+x^{2}}}\\\\\r\n",
        "&\\text  1 \\geqslant \\frac{f(x)}{g(x)} \\quad \\forall x>0\\\\\r\n",
        "&\\text { D'où }{A}=1\r\n",
        "\\end{aligned}"
      ]
    },
    {
      "cell_type": "code",
      "metadata": {
        "id": "aR4-_8HCoXBl"
      },
      "source": [
        "def f(x):\r\n",
        "  return( np.exp( -sqrt(1+x**2) ) )\r\n",
        "\r\n",
        "def rejet_fa(n):\r\n",
        "  vect_fa = np.zeros(n)\r\n",
        "  for i in range(n):\r\n",
        "    z=1\r\n",
        "    f_x=0\r\n",
        "    while z>=f_x:\r\n",
        "      x = rnd.exponential()  \r\n",
        "      u = rnd.uniform()\r\n",
        "      z=np.exp(-x)*u\r\n",
        "      f_x=f(x)\r\n",
        "\r\n",
        "    vect_fa[i]=x\r\n",
        "  return(vect_fa)\r\n",
        "\r\n"
      ],
      "execution_count": 4,
      "outputs": []
    },
    {
      "cell_type": "code",
      "metadata": {
        "id": "H_VxmDnf0wJq"
      },
      "source": [
        "simu_fa = rejet_fa(10000)\r\n",
        "X_interv = np.arange(0,8,0.01)\r\n",
        "v_fa = f(X_interv)"
      ],
      "execution_count": 5,
      "outputs": []
    },
    {
      "cell_type": "code",
      "metadata": {
        "colab": {
          "base_uri": "https://localhost:8080/",
          "height": 281
        },
        "id": "2YEbBYSj03P5",
        "outputId": "1f7317ba-7cf0-477b-c38b-cc404b640541"
      },
      "source": [
        "plt.figure()\r\n",
        "plt.plot( X_interv, v_fa, 'r-', label=\"f(x)\");\r\n",
        "plt.plot(X_interv, np.exp(-X_interv), \"g-\", label=\"g(x)\")\r\n",
        "plt.hist(vect_fa, bins=np.arange(0,8,0.1),density=1);\r\n",
        "plt.legend()\r\n",
        "plt.title(\"histogramme simulation de la loi de densité fa\");\r\n"
      ],
      "execution_count": null,
      "outputs": [
        {
          "output_type": "display_data",
          "data": {
            "image/png": "[encoded data removed]",
            "text/plain": [
              "<Figure size 432x288 with 1 Axes>"
            ]
          },
          "metadata": {
            "tags": [],
            "needs_background": "light"
          }
        }
      ]
    },
    {
      "cell_type": "markdown",
      "metadata": {
        "id": "Oanh39TmAZDs"
      },
      "source": [
        ">L'histogramme nous donne une approximation de la densité. On lit ainsi à l'origine $f_{a}(0) = 0,6$\r\n",
        "On estime ensuite a par:\r\n",
        "\\begin{array}{l}\r\n",
        "\\frac{f_{a}(0)}{f(0)} \\approx \\frac{0,6}{0,36} \\\\\r\n",
        "\\Rightarrow a \\approx 1,66\r\n",
        "\\end{array}"
      ]
    },
    {
      "cell_type": "markdown",
      "metadata": {
        "id": "LOqDiv6doXBm"
      },
      "source": [
        "> **Question 3.**\n",
        "Ecrire une fonction <code>temprej(n)</code> qui renvoie un vecteur $T$ de taille $n$,\n",
        "tel que $T_i$ soit le nombre de variables instrumentales, de densité\n",
        "$g$, qu'il a fallu générer pour obtenir la $i$ ème variable de densité\n",
        "$f_a$. Ce vecteur est donc un vecteur de composantes i.i.d. de même loi géométrique $\n",
        "geo(p=1/M)$. En déduire une estimation de $a$ en\n",
        "fonction de la moyenne empirique $\\bar{T}_n = \\frac1{n} \\sum_{i=1}^n T_i$."
      ]
    },
    {
      "cell_type": "code",
      "metadata": {
        "id": "t-wbvQEWoXBm"
      },
      "source": [
        "def temprej(n):\r\n",
        "  T= np.zeros(n)\r\n",
        "  for i in range(n):\r\n",
        "    z=1\r\n",
        "    f_x=0\r\n",
        "    c=0\r\n",
        "    while z>=f_x:\r\n",
        "      x = rnd.exponential()  \r\n",
        "      u = rnd.uniform()\r\n",
        "      z=np.exp(-x)*u\r\n",
        "      f_x=f(x)\r\n",
        "      c+=1\r\n",
        "\r\n",
        "    T[i]=c\r\n",
        "  return(T)\r\n"
      ],
      "execution_count": 6,
      "outputs": []
    },
    {
      "cell_type": "code",
      "metadata": {
        "colab": {
          "base_uri": "https://localhost:8080/"
        },
        "id": "w0TKokSO9fap",
        "outputId": "cf1cac82-a960-4abd-a5c1-d79879de025c"
      },
      "source": [
        "n = 10000\r\n",
        "T = temprej(n)\r\n",
        "mean_T = np.mean(T)\r\n",
        "M = mean_T \r\n",
        "sigma_n = np.std(T)\r\n",
        "print(\"estimation a: {}\".format(M))\r\n"
      ],
      "execution_count": null,
      "outputs": [
        {
          "output_type": "stream",
          "text": [
            "estimation a: 1.6536\n"
          ],
          "name": "stdout"
        }
      ]
    },
    {
      "cell_type": "markdown",
      "metadata": {
        "id": "4lfB63il_5cQ"
      },
      "source": [
        "\r\n",
        "\r\n",
        "On sait que $E(T)=1/p=M$ la moyenne du vecteur T nous donne donc des estimations entre 1.6 et 1.7 ce qui est cohérent avec la valeur calculée graphiquement précedemment."
      ]
    },
    {
      "cell_type": "markdown",
      "metadata": {
        "id": "lfucuGdeoXBn"
      },
      "source": [
        "\n",
        "\n",
        "> **Question 4.** On considère l'intervalle de confiance asymptotique donné par\n",
        "la combinaison classique du théorème central limite, de\n",
        "l'approximation $\\sigma_n^2$ de la variance de la loi géométrique par la variance\n",
        "empirique de $T$, et du lemme de Slutsky:\n",
        "$$\n",
        "  IC(n,\\alpha)=\\left[\\bar{T}_n - q_{1-\\alpha/2} \\frac{\\sigma_n}{\\sqrt{n}},\\bar{T}_n + q_{1-\\alpha/2} \\frac{\\sigma_n}{\\sqrt{n}}\\right]\\,.\n",
        "$$\n",
        "Donner les intervalles de confiance obtenus pour $\\alpha=0.05$ et $n=50,100,1000$.\n"
      ]
    },
    {
      "cell_type": "markdown",
      "metadata": {
        "id": "lkaGr7phLHh4"
      },
      "source": [
        "on $q_{1-\\alpha/2}$  le quantile de niveau $(1-\\alpha/2)$ avec $\\alpha = 0.05$ pour la loi normale est 1.96."
      ]
    },
    {
      "cell_type": "code",
      "metadata": {
        "colab": {
          "base_uri": "https://localhost:8080/"
        },
        "id": "WgSj9lcCLQAJ",
        "outputId": "da510f54-1690-429d-b46c-32abe873853b"
      },
      "source": [
        "print(\"intervalle de confiance au niveau 0.05:\")\r\n",
        "\r\n",
        "def IC(n):\r\n",
        "  T = temprej(n)\r\n",
        "  a = np.mean(T) - 1.96*(np.var(T))/np.sqrt(n)\r\n",
        "  b = np.mean(T) + 1.96*(np.var(T))/np.sqrt(n)\r\n",
        "  return([a, b])\r\n",
        "\r\n",
        "print(\"IC n=50: {} \\nIC n=100: {} \\nIC n=1000: {}\".format(IC(50), IC(100), IC(1000)) )"
      ],
      "execution_count": null,
      "outputs": [
        {
          "output_type": "stream",
          "text": [
            "intervalle de confiance au niveau 0.05:\n",
            "IC n=50: [1.3424302428895867, 2.0575697571104135] \n",
            "IC n=100: [1.3473396, 1.6726604] \n",
            "IC n=1000: [1.638019095474459, 1.7839809045255413]\n"
          ],
          "name": "stdout"
        }
      ]
    },
    {
      "cell_type": "markdown",
      "metadata": {
        "id": "Nht9GFgpoXBn"
      },
      "source": [
        "  $\\def\\esp#1{\\left\\{#1\\right\\}} \\def\\etc#1{\\left[#1\\right]} \\def\\esp#1{\\mathbb{E}\\left[#1\\right]}\n",
        "  $\n",
        "  \n",
        "  > **Question 5.** On désire utiliser maintenant les intervalles de\n",
        "  confiances non asymptotiques.\n",
        "  \n",
        "  >Soit $X$ une variable de loi géométrique de paramètre $p\\in (0,1)$\n",
        "  et $Z=X-\\esp{X}$. Montrer que si $t<-log(1-p)$,\n",
        "  \\begin{equation*}\n",
        "    \\psi_Z(t)=\\log\\esp{e^{tZ}}= -t/p + \\log(p) + t -\\log(1-(1-p)e^t) \n",
        "  \\end{equation*}\n",
        "  et que $\\psi_Z(t)=+\\infty$ sinon.\n",
        "  \n",
        "  >Montrer que la dérivée seconde $ \\psi_Z''(t)$ est croissante sur $]-\\infty,-\\log(1-p)[$. En\n",
        "  déduire que si $p\\ge 1/2$, alors $X\\in SE(\\tau^2=2,b)$ avec $(1-p)\n",
        "  e^{1/b} = 0.5$.\n",
        "\n",
        "  > En déduire des intervalles de confiance de niveau $1-\\alpha$ pour $a$. Les comparer aux intervalles de confiance précédents pour $n=50,100,1000$ en\n",
        "  utilisant le même échantillon de taille $n $ de géométriques à\n",
        "  chaque fois bien sûr.\n"
      ]
    },
    {
      "cell_type": "markdown",
      "metadata": {
        "id": "7JbDoYkMMeYV"
      },
      "source": [
        "$ \\text{Soit} $ $B = ]-\\infty,-\\log(1-p)[$"
      ]
    },
    {
      "cell_type": "markdown",
      "metadata": {
        "id": "OqzJ6VSF7rKY"
      },
      "source": [
        "\r\n",
        " 5)\r\n",
        " \\begin{aligned}\r\n",
        "{\\psi}_{z}(t) &=\\log \\left(\\mathbb{E}\\left(e^{t z}\\right)\\right) \\\\\r\n",
        "\\mathbb{E}\\left(e^{t z}\\right) &=\\sum_{k=1}^{+\\infty} \\rho(1-p)^{k-1} e^{t\\left(k-\\frac{1}{\\rho}\\right)} \\\\\r\n",
        "&=p \\sum_{k=1}^{+\\infty}\\left((1-p) e^{t}\\right)^{k-1} \\times e^{t-\\frac{t}{p}} \\\\\r\n",
        "&=p e^{t-t / p} \\cdot \\frac{1}{1-(1-p) e^{t}}\r\n",
        "\\end{aligned}\r\n",
        "\r\n",
        "\\begin{array}{l}\r\n",
        "\\text{si  } t<-log(1-p) \\text{ alors } \r\n",
        "\\psi_{z}(t)=\\log \\left(\\mathbb{E}\\left(e^{t z}\\right)\\right)=-\\frac{t}{p}+t+\\log (p)-\\log (1-(1-p) e^t) \\\\\r\n",
        "\\text{sinon } \\mathbb{E}\\left(e^{t z}\\right)=+\\infty \\text{ donc } \\psi_{z}(t) \\text { aussi. }\r\n",
        "\\end{array}\r\n"
      ]
    },
    {
      "cell_type": "markdown",
      "metadata": {
        "id": "3glLQh7E7rvj"
      },
      "source": [
        "On trouve après deux dérivations: $\\psi^{\\prime \\prime}(t)=\\frac{-(p-1) e^{t}}{\\left((p-1) e^{t}+1\\right)^{2}}$ On verifie qu'elle est croissante sur notre intervalle B.\r\n",
        "\r\n",
        "\\begin{array}{l}\r\n",
        "\\left.(1-p) e^{\\frac{1}{b}}=0,5 \\Rightarrow \\frac{1}{b} \\in\\right]-\\infty,-\\log (1-p)[ \\\\\r\n",
        "\\forall x \\in\\left[0, \\frac{1}{b}\\right] \\quad \\psi^{\\prime \\prime}(x) \\leqslant \\psi^{\\prime \\prime}\\left(\\frac{1}{b}\\right)\r\n",
        "\\end{array}\r\n",
        "\r\n",
        "\\begin{aligned}\r\n",
        "\\text{On intégre deux fois:}\\\\\r\n",
        "&\\int^{x}_{0} \\int^{x}_{0} \\psi^{\\prime \\prime}(t) d t \\leq x^{2} \\psi^{\\prime \\prime}\\left(\\frac{1}{b}\\right)\\leq x^{2}\\\\\r\n",
        "\r\n",
        "\r\n",
        "&\\text{alors }\\psi(x) \\leq x^{2}\\\\\r\n",
        "\r\n",
        "&M_{x-\\mathbb{E}(x)}{(t)} \\leqslant e^{t^{2} \\frac{\\tau^{2}}{2}} \\quad \\text{quand } \\tau^{2}=2\r\n",
        "\r\n",
        "\r\n",
        "\\text { et } \\forall|t| \\leq \\frac{1}{b}\r\n",
        "\r\n",
        "\\end{aligned}"
      ]
    },
    {
      "cell_type": "markdown",
      "metadata": {
        "id": "Q_xcSUo15bOp"
      },
      "source": [
        "$\\text{Par la méthode de Chernoff:}$\r\n",
        "\\begin{aligned}\r\n",
        "\\forall t \\in\\left[0, \\frac{1}{b}\\right], \\mathbb{P}(|\\bar{X}-m|>t) \\leq 2 e^{-\\frac{n t^{2}}{2 \\tau^{2}}} \\\\\r\n",
        "\\text{Alors } P\\left(\\left|\\hat{I}_{n}-I\\right| \\leq t\\right) \\geqslant 1-2 e^{-\\frac{n t^{2}}{2 \\tau^{2}}}\\\\\r\n",
        "\\alpha=2 e^{-\\frac{nt^{2}}{2 \\tau^{2}}} \\Leftrightarrow t=\\sqrt{\\frac{2 \\tau^{2} \\ln \\left(\\frac{2}{\\alpha}\\right)}{2}}.\\\\\r\n",
        "P\\left(I \\in\\left[\\hat{I}_{n} \\pm \\sqrt{\\frac{2 \\tau^{2} \\ln \\left(\\frac{2}{\\alpha}\\right)}{\\sqrt{n}}}\\right]\\right) \\quad \\geqslant 1-\\alpha\r\n",
        "\\end{aligned}"
      ]
    },
    {
      "cell_type": "code",
      "metadata": {
        "colab": {
          "base_uri": "https://localhost:8080/"
        },
        "id": "G3H_MgWQCo0e",
        "outputId": "45fe6b5c-0020-4de8-d4a8-954e6547ef6c"
      },
      "source": [
        "tau=np.sqrt(2)\r\n",
        "print(\"intervalle de confiance au niveau 0.05 pour cette méthode:\")\r\n",
        "\r\n",
        "def IC_chernoff(n):\r\n",
        "  T = temprej(n)\r\n",
        "  a = np.mean(T) - np.sqrt( 2*(tau**2)*np.log(2/0.05) / np.sqrt(n) ) \r\n",
        "  b = np.mean(T) + np.sqrt( 2*(tau**2)*np.log(2/0.05) / np.sqrt(n) )\r\n",
        "  return([a, b])\r\n",
        "\r\n",
        "print(\"IC n=50: {} \\nIC n=100: {} \\nIC n=1000: {}\".format(IC_chernoff(50), IC_chernoff(100), IC_chernoff(1000)) )\r\n",
        "\r\n",
        "\r\n",
        "#On voit immédiatement que les intervalles sont moins pertinents que ceux proposés à  la question 4 "
      ],
      "execution_count": 8,
      "outputs": [
        {
          "output_type": "stream",
          "text": [
            "intervalle de confiance au niveau 0.05 pour cette méthode:\n",
            "IC n=50: [0.1754428562403787, 3.0645571437596217] \n",
            "IC n=100: [0.23527707618338956, 2.66472292381661] \n",
            "IC n=1000: [0.9549111012818717, 2.321088898718128]\n"
          ],
          "name": "stdout"
        }
      ]
    },
    {
      "cell_type": "markdown",
      "metadata": {
        "id": "M6bd_IihoXBo"
      },
      "source": [
        "> **Question 6.**\n",
        "On va utiliser les méthodes de Monte Carlo pour calculer\n",
        "  la constante\n",
        "  \\begin{equation*}\n",
        "    I=\\frac1{a} = \\int_0^\\infty e^{-\\sqrt{1+x^2}}\\, dx\n",
        "  \\end{equation*}\n",
        "  On écrit pour cela $I=\\esp{f(X)}$ avec $X$ une va de loi exponentielle\n",
        "    standard, et $f(x)=\\exp(x-\\sqrt{1+x^2}) 1_{x>0}$.\n",
        "  En utilisant l'encadrement pour $x>0$, $x \\le \\sqrt{1+x^2}\n",
        "\\le x+1$, donner un encadrement pour $I$ et un encadrement pour $var(f(X))$."
      ]
    },
    {
      "cell_type": "markdown",
      "metadata": {
        "id": "4X3TIcUODxw4"
      },
      "source": [
        "6)\r\n",
        "\r\n",
        "$\\text{Pour I:}$\r\n",
        "\\begin{aligned}\r\n",
        "\\forall x>0 \\int_{0}^{+\\infty} e^{-(1+x)} d x \\leq \\int_{0}^{+\\infty} e^{-\\sqrt{1+x^{2}}} d x \\leq \\int_{0}^{+\\infty} e^{-2} d x \\\\\r\n",
        "\\end{aligned}\r\n",
        "\r\n",
        "$\\text{par intégration:  } e^{-1} \\leq I \\leq 1$\r\n",
        "\\begin{aligned}\r\n",
        "&\\text{Pour la variance de la fonction f :}\\\\\r\n",
        "\\text{On a }e^{-1} \\leq f(x) \\leq 1\\\\\r\n",
        "\\end{aligned}\r\n",
        "On prends le cas d'un échantillon equilibré en 1 et $e^{-1}$:\r\n",
        "\\begin{aligned}\r\n",
        "V & \\leq \\frac{1}{n} \\times \\frac{n}{2}\\left(1-\\frac{1+e^{-1}}{2}\\right)^{2}+\\frac{1}{n} \\times \\frac{n}{2}\\left(e^{-1}-\\frac{1+e^{-1}}{2}\\right)^{2} \\\\\r\n",
        "& \\leqslant\\left(\\frac{1-e^{-t}}{2}\\right)^{2} \\geqslant V(f(x)) \\\\\r\n",
        "\\text { et pour la borne inférieure: } V(f(x)) & \\geq 0\r\n",
        "\\end{aligned}\r\n",
        "\r\n"
      ]
    },
    {
      "cell_type": "markdown",
      "metadata": {
        "id": "f1rLVaehoXBp"
      },
      "source": [
        " > **Question 7.** En utilisant $N=1000$ simulations de l'estimateur de Monte-Carlo $ I_n$ de $I$, pour\n",
        "  $n=50,100,1000$, donner des estimations de la variance de $ I_n$.\n",
        "\n",
        "  > Ensuite, donner pour  $n=50,100,1000$ la valeur de $ I_n$ ainsi\n",
        "  qu'une approximation de sa variance, et donc une approximation d'un\n",
        "  intervalle de confiance asymptotique de niveau $1-\\alpha$.\n",
        "\n",
        ">  En déduire des intervalles de confiance pour $a=1/I$, que l'on\n",
        "  comparera à ceux obtenus en questions 4 et 5."
      ]
    },
    {
      "cell_type": "code",
      "metadata": {
        "id": "mIp5_3DY7Qwc",
        "colab": {
          "base_uri": "https://localhost:8080/"
        },
        "outputId": "885c662d-7fe2-47af-a3cf-df7f0cec789c"
      },
      "source": [
        "N=1000\r\n",
        "\r\n",
        "def f(x):\r\n",
        "  f_x = np.exp(x - np.sqrt(1+x**2))\r\n",
        "  return(f_x)\r\n",
        "\r\n",
        "def MC_In(n):\r\n",
        "  V = rnd.exponential(size=n)\r\n",
        "  In = np.mean( f(V))\r\n",
        "  return(In)\r\n",
        "\r\n",
        "def V_In(N,n):\r\n",
        "  V_In= np.zeros(N)\r\n",
        "  for i in range(N):\r\n",
        "    V_In[i] = MC_In(n)\r\n",
        "\r\n",
        "  return(V_In)\r\n",
        "\r\n",
        "\r\n",
        "print(\"moyenne pour N=1000: \\n \")\r\n",
        "print(\"n=50: {} \\n\".format(mean(V_In(1,50))))\r\n",
        "print(\"n=100: {} \\n\".format(mean(V_In(1,100))))\r\n",
        "print(\"n=1000: {} \\n \\n\".format(mean(V_In(1, 1000))))\r\n",
        "\r\n",
        "print(\"Variance pour N=1000: \\n\")\r\n",
        "print(\"n=50: {} \\n\".format(var(V_In(N,50))))\r\n",
        "print(\"n=100: {} \\n\".format(var(V_In(N,100))))\r\n",
        "print(\"n=1000: {} \\n \\n\".format(var(V_In(N, 1000))))\r\n",
        "\r\n"
      ],
      "execution_count": null,
      "outputs": [
        {
          "output_type": "stream",
          "text": [
            "moyenne pour N=1000: \n",
            " \n",
            "n=50: 0.6083088437808778 \n",
            "\n",
            "n=100: 0.6258154891451124 \n",
            "\n",
            "n=1000: 0.5954979499382794 \n",
            " \n",
            "\n",
            "Variance pour N=1000: \n",
            "\n",
            "n=50: 0.0004188379088173739 \n",
            "\n",
            "n=100: 0.00022099040987517615 \n",
            "\n",
            "n=1000: 2.2974951032893883e-05 \n",
            " \n",
            "\n"
          ],
          "name": "stdout"
        }
      ]
    },
    {
      "cell_type": "markdown",
      "metadata": {
        "id": "bNCuBNtgDU9s"
      },
      "source": [
        "Par le théoreme Centrale limite,  $ \\sqrt{n}\\frac{I_n-I}{\\sigma} $ suit la loi centrée réduite. \r\n",
        "Soit z est le quantile de niveau $q_{1-\\alpha/2}$. UN intervalle de confiance asymptotique est donc $ [ I_n -\\frac{z\\sigma}{\\sqrt{n}} , I_n +\\frac{z\\sigma}{\\sqrt{n}}]  $. Avec Notre approximation de $\\sigma$, on en déduit l'approximation de cette intervalle. Puis l'intervalle pour $a= I^{-1}$."
      ]
    },
    {
      "cell_type": "code",
      "metadata": {
        "colab": {
          "base_uri": "https://localhost:8080/"
        },
        "id": "_1_JKTAmF2F3",
        "outputId": "08ff53d7-471d-4a68-d3dd-f83fdf6cb34a"
      },
      "source": [
        "print(\"approximation des intervalles de confiance asymptomatique pour a: \\n \")\r\n",
        "\r\n",
        "n=50 \r\n",
        "v_In = V_In(N,n)\r\n",
        "m_In = mean(v_In)\r\n",
        "sigma = np.sqrt( var(v_In) )\r\n",
        "I = [1/ (m_In +1.96*sigma/np.sqrt(n)), 1/(m_In - 1.96*sigma/np.sqrt(n))]\r\n",
        "\r\n",
        "print(\"n=50: {} \\n\".format(I))\r\n",
        "\r\n",
        "n=100 \r\n",
        "v_In = V_In(N,n)\r\n",
        "m_In = mean(v_In)\r\n",
        "sigma = np.sqrt( var(v_In) )\r\n",
        "I = [1/(m_In +1.96*sigma/np.sqrt(n)), 1/(m_In - 1.96*sigma/np.sqrt(n))]\r\n",
        "\r\n",
        "print(\"n=100: {} \\n\".format(I))\r\n",
        "\r\n",
        "n=1000\r\n",
        "v_In = V_In(N,n)\r\n",
        "m_In = mean(v_In)\r\n",
        "sigma = np.sqrt( var(v_In) )\r\n",
        "I = [1/(m_In + 1.96*sigma/np.sqrt(n)), 1/(m_In - 1.96*sigma/np.sqrt(n))]\r\n",
        "print(\"n=1000: {} \\n \\n\".format(I))\r\n",
        "\r\n",
        "\r\n",
        "\r\n",
        "\r\n"
      ],
      "execution_count": null,
      "outputs": [
        {
          "output_type": "stream",
          "text": [
            "approximation des intervalles de confiance asymptomatique pour a: \n",
            " \n",
            "n=50: [1.6474218766657078, 1.6790324178978777] \n",
            "\n",
            "n=100: [1.6543438838182456, 1.6703114715308183] \n",
            "\n",
            "n=1000: [1.6609641309425387, 1.6626239569177022] \n",
            " \n",
            "\n"
          ],
          "name": "stdout"
        }
      ]
    },
    {
      "cell_type": "markdown",
      "metadata": {
        "id": "dkpgkB7eH37v"
      },
      "source": [
        "Les intervalles sont beaucoup plus précis que les intervalles de la question 4, on gagne un facteur 10. et de la question 5."
      ]
    },
    {
      "cell_type": "markdown",
      "metadata": {
        "id": "VPO_gwEmoXBq"
      },
      "source": [
        "> **Question 8.** On peut toujours utiliser des variables antithétiques en\n",
        "utilisant la méthode de la fonction quantile, appelée également\n",
        "méthode de la fonction inverse, pour générer une variable $X=F^-(U)$  de loi\n",
        "exponentielle à partir d'une variable $U$ uniforme sur $(0,1)$. Alors\n",
        "la variable $\\tilde{X}=F^-(1-U)$ a même loi que $X$. Montrer que\n",
        "$cov(f(X),f(\\tilde{X})\\le 0$."
      ]
    },
    {
      "cell_type": "markdown",
      "metadata": {
        "id": "X-AtqhMjJ29D"
      },
      "source": [
        "On sait d'après le cours que si f est monotone et $\\phi$ non croissante, alors $cov(f(X),f(\\phi{(X)})\\le 0$.\r\n",
        "Or f est décroissante (facile à vérifier en traçant le graphe ou avec les inéquations de la question 1) et $\\phi(x) = 1 - x$ est décroissante.\r\n",
        "Donc $cov(f(X),f(\\tilde{X}))\\le 0$.\r\n"
      ]
    },
    {
      "cell_type": "markdown",
      "metadata": {
        "id": "dGBkk83_oXBr"
      },
      "source": [
        " > **Question 9.** Pour\n",
        "  $n=50,100,1000$, donner la valeur de l'estimateur de Monte-Carlo $ I^a_n$ avec variables antithétiques (utilisant $n/2$ réalisations indépendantes de $X$ et les $n/2$ réalisations correspondantes de $\\tilde X$) ainsi  qu'une\n",
        "  approximation de sa variance. et  Comparer ces résultats à ceux de la\n",
        "  question 7."
      ]
    },
    {
      "cell_type": "code",
      "metadata": {
        "id": "2PCohlJ3oXBr",
        "colab": {
          "base_uri": "https://localhost:8080/"
        },
        "outputId": "f03c7cbd-e1a1-4a15-aa98-adebb65d6a2b"
      },
      "source": [
        "from scipy.stats import expon\r\n",
        "\r\n",
        "def In_antithetique(n):\r\n",
        "  U = rnd.uniform(size=n//2)\r\n",
        "  V1 = f(expon.ppf(U))\r\n",
        "  V2 = f(expon.ppf(1-U))\r\n",
        "  V_a = np.concatenate((V1, V2))\r\n",
        "  return(np.mean(V_a))\r\n",
        "\r\n",
        "def V_In_a(N,n):\r\n",
        "  V_In_a=np.zeros(N)\r\n",
        "  for i in range(N):\r\n",
        "    In = In_antithetique(n)\r\n",
        "    V_In_a[i] = In\r\n",
        "  return(V_In_a)\r\n",
        "\r\n",
        "print(\"moyenne pour N=1000: \\n \")\r\n",
        "print(\"n=50: {} \\n\".format(mean(V_In_a(1,50))))\r\n",
        "print(\"n=100: {} \\n\".format(mean(V_In_a(1,100))))\r\n",
        "print(\"n=1000: {} \\n\".format(mean(V_In_a(1, 1000))))\r\n",
        "\r\n",
        "print(\"Variance pour N=1000: \\n\")\r\n",
        "print(\"n=50: {} \\n\".format(var(V_In_a(N,50))))\r\n",
        "print(\"n=100: {} \\n\".format(var(V_In_a(N,100))))\r\n",
        "print(\"n=1000: {} \\n \\n\".format(var(V_In_a(N, 1000))))\r\n",
        "\r\n"
      ],
      "execution_count": null,
      "outputs": [
        {
          "output_type": "stream",
          "text": [
            "moyenne pour N=1000: \n",
            " \n",
            "n=50: 0.6007764594176135 \n",
            "\n",
            "n=100: 0.6027246330003616 \n",
            "\n",
            "n=1000: 0.602161986019289 \n",
            "\n",
            "Variance pour N=1000: \n",
            "\n",
            "n=50: 4.940380006740843e-06 \n",
            "\n",
            "n=100: 2.428056252009287e-06 \n",
            "\n",
            "n=1000: 2.637206961305204e-07 \n",
            " \n",
            "\n"
          ],
          "name": "stdout"
        }
      ]
    },
    {
      "cell_type": "markdown",
      "metadata": {
        "id": "bucB_T-9b21E"
      },
      "source": [
        "Il y a une nette diminution de la variance avec cette méthode. On passe de $10^{-3}$ (question 7) à $10^{-5}$ pour n=50."
      ]
    },
    {
      "cell_type": "markdown",
      "metadata": {
        "id": "388Bu75OoXBr"
      },
      "source": [
        "> **Question 10.** On introduit ici une méthode de réduction de variance par variable de contrôle basée une approximation\n",
        " $\\tilde{f}(x)$ de la fonction $f(x)$. On note que $f(x)\\to 1$\n",
        "quand $x\\to +\\infty$. On définit alors \n",
        "\\begin{equation*}\n",
        "  \\tilde{f}(x)= (c+bx)1_{x\\le \\gamma} + 1_{x>\\gamma}\n",
        "\\end{equation*}\n",
        "avec $\\gamma=5$ et où \n",
        "les constantes $c,b$ sont choisies telles que la fonction \n",
        "vérifie $\\tilde{f}(0)=f(0)$ et $\\tilde{f}(\\gamma)=f(\\gamma)$.\n",
        "\n",
        "> Calculer $\\esp{\\tilde{f}(X)}$ et en déduire la formule de l'estimateur \n",
        "  de Monte-Carlo $ I^c_n$ avec variable de contrôle.\n",
        "\n",
        "> Pour\n",
        "  $n=50,100,1000$, donner la valeur de $ I^c_n$ ainsi  qu'une\n",
        "  approximation de sa variance. Comparer ces résultats à ceux des\n",
        "  questions 7 et 9.\n",
        "\n"
      ]
    },
    {
      "cell_type": "markdown",
      "metadata": {
        "id": "L1S_TLY5RwbV"
      },
      "source": [
        "10)\r\n",
        "\\begin{aligned}\r\n",
        "\\mathbb{E}(\\tilde{f}(x)) &=\\int_{0}^{+\\infty} \\tilde{f}(x) e^{-x} d x \\\\\r\n",
        "&=e^{-\\gamma}(-c-b \\gamma-b)+c+b+e^{-\\gamma} \\\\\r\n",
        "I_{n}^{c}=\\tilde{I} &+\\frac{1}{n} \\sum_{k=1}^{n}\\left(f\\left(X^{k}\\right)-\\tilde{f}\\left(X^{k}\\right)\\right) \\\\\r\n",
        "\\tilde{I} =\\esp{f(\\tilde{x})}\r\n",
        "\\end{aligned}\r\n"
      ]
    },
    {
      "cell_type": "markdown",
      "metadata": {
        "id": "m53QiVT5DOMp"
      },
      "source": [
        "On trouve  que $c=e^{-1}$ et $b=(f(\\gamma)-c)/\\gamma$\r\n",
        "\r\n"
      ]
    },
    {
      "cell_type": "code",
      "metadata": {
        "colab": {
          "base_uri": "https://localhost:8080/"
        },
        "id": "nOOZeKQNqoTs",
        "outputId": "5ccc08ed-1596-4200-93b4-3c4cd36aad60"
      },
      "source": [
        "c = np.exp(-1)\r\n",
        "b = (np.exp(5-np.sqrt(26))-np.exp(-1))/5\r\n",
        "\r\n",
        "I_tild =np.exp(-5)*(1-c-5*b -b) + c+b\r\n",
        "\r\n",
        "def f_tild(x):\r\n",
        "  if x<=5:\r\n",
        "    f = c+b*x\r\n",
        "  else:\r\n",
        "    f=1\r\n",
        "  return(f)\r\n",
        "\r\n",
        "def In_C(n): \r\n",
        "  sum=0\r\n",
        "  for i in range(n):\r\n",
        "    x = rnd.exponential(size=1)\r\n",
        "    sum = sum + f(x) - f_tild(x)\r\n",
        "  In = I_tild + (sum)/n\r\n",
        "  return (In)\r\n",
        "\r\n",
        "def V_In_C(N,n):\r\n",
        "  V_In_C=np.zeros(N)\r\n",
        "  for i in range(N):\r\n",
        "    In = In_C(n)\r\n",
        "    V_In_C[i] = In\r\n",
        "  return(V_In_C)\r\n",
        "\r\n",
        "\r\n",
        "print(\"moyenne pour N=1000: \\n \")\r\n",
        "print(\"n=50: {} \\n\".format(mean(V_In_C(1,50))))\r\n",
        "print(\"n=100: {} \\n\".format(mean(V_In_C(1,100))))\r\n",
        "print(\"n=1000: {} \\n\".format(mean(V_In_C(1, 1000))))\r\n",
        "\r\n",
        "print(\"Variance pour N=1000: \\n\")\r\n",
        "print(\"n=50: {} \\n\".format(var(V_In_C(N,50))))\r\n",
        "print(\"n=100: {} \\n\".format(var(V_In_C(N,100))))\r\n",
        "print(\"n=1000: {} \\n \\n\".format(var(V_In_C(N, 1000))))\r\n"
      ],
      "execution_count": null,
      "outputs": [
        {
          "output_type": "stream",
          "text": [
            "moyenne pour N=1000: \n",
            " \n",
            "n=50: 0.6190107806560275 \n",
            "\n",
            "n=100: 0.5976951892685795 \n",
            "\n",
            "n=1000: 0.6022383407282392 \n",
            "\n",
            "Variance pour N=1000: \n",
            "\n",
            "n=50: 9.614027371351841e-05 \n",
            "\n",
            "n=100: 4.494229623745412e-05 \n",
            "\n",
            "n=1000: 4.866936615992682e-06 \n",
            " \n",
            "\n"
          ],
          "name": "stdout"
        }
      ]
    },
    {
      "cell_type": "markdown",
      "metadata": {
        "id": "2be3joqTsPy0"
      },
      "source": [
        " Il y a  donc une amélioration par rapport à la question 7 mais pas par rapport à la question 9."
      ]
    }
  ]
}